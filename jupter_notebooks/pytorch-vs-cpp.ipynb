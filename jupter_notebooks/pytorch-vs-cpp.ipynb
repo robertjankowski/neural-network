{
 "cells": [
  {
   "cell_type": "code",
   "execution_count": 1,
   "metadata": {},
   "outputs": [
    {
     "data": {
      "text/html": [
       "<div>\n",
       "<style scoped>\n",
       "    .dataframe tbody tr th:only-of-type {\n",
       "        vertical-align: middle;\n",
       "    }\n",
       "\n",
       "    .dataframe tbody tr th {\n",
       "        vertical-align: top;\n",
       "    }\n",
       "\n",
       "    .dataframe thead th {\n",
       "        text-align: right;\n",
       "    }\n",
       "</style>\n",
       "<table border=\"1\" class=\"dataframe\">\n",
       "  <thead>\n",
       "    <tr style=\"text-align: right;\">\n",
       "      <th></th>\n",
       "      <th>sepal_length</th>\n",
       "      <th>sepal_width</th>\n",
       "      <th>petal_length</th>\n",
       "      <th>petal_width</th>\n",
       "      <th>label</th>\n",
       "    </tr>\n",
       "  </thead>\n",
       "  <tbody>\n",
       "    <tr>\n",
       "      <th>0</th>\n",
       "      <td>5.1</td>\n",
       "      <td>3.5</td>\n",
       "      <td>1.4</td>\n",
       "      <td>0.2</td>\n",
       "      <td>Iris-setosa</td>\n",
       "    </tr>\n",
       "    <tr>\n",
       "      <th>1</th>\n",
       "      <td>4.9</td>\n",
       "      <td>3.0</td>\n",
       "      <td>1.4</td>\n",
       "      <td>0.2</td>\n",
       "      <td>Iris-setosa</td>\n",
       "    </tr>\n",
       "    <tr>\n",
       "      <th>2</th>\n",
       "      <td>4.7</td>\n",
       "      <td>3.2</td>\n",
       "      <td>1.3</td>\n",
       "      <td>0.2</td>\n",
       "      <td>Iris-setosa</td>\n",
       "    </tr>\n",
       "    <tr>\n",
       "      <th>3</th>\n",
       "      <td>4.6</td>\n",
       "      <td>3.1</td>\n",
       "      <td>1.5</td>\n",
       "      <td>0.2</td>\n",
       "      <td>Iris-setosa</td>\n",
       "    </tr>\n",
       "    <tr>\n",
       "      <th>4</th>\n",
       "      <td>5.0</td>\n",
       "      <td>3.6</td>\n",
       "      <td>1.4</td>\n",
       "      <td>0.2</td>\n",
       "      <td>Iris-setosa</td>\n",
       "    </tr>\n",
       "  </tbody>\n",
       "</table>\n",
       "</div>"
      ],
      "text/plain": [
       "   sepal_length  sepal_width  petal_length  petal_width        label\n",
       "0           5.1          3.5           1.4          0.2  Iris-setosa\n",
       "1           4.9          3.0           1.4          0.2  Iris-setosa\n",
       "2           4.7          3.2           1.3          0.2  Iris-setosa\n",
       "3           4.6          3.1           1.5          0.2  Iris-setosa\n",
       "4           5.0          3.6           1.4          0.2  Iris-setosa"
      ]
     },
     "execution_count": 1,
     "metadata": {},
     "output_type": "execute_result"
    }
   ],
   "source": [
    "import pandas as pd\n",
    "\n",
    "iris = pd.read_csv(\"../iris.data\", header=None, names=[\"sepal_length\", \"sepal_width\", \n",
    "                                                    \"petal_length\", \"petal_width\", \"label\"])\n",
    "iris.head()"
   ]
  },
  {
   "cell_type": "code",
   "execution_count": 2,
   "metadata": {},
   "outputs": [],
   "source": [
    "from sklearn.model_selection import train_test_split\n",
    "from sklearn.preprocessing import LabelEncoder, OneHotEncoder\n",
    "\n",
    "X = iris.drop(['label'], axis=1)\n",
    "y = iris.label\n",
    "\n",
    "# encode label\n",
    "y_data = pd.get_dummies(y)"
   ]
  },
  {
   "cell_type": "code",
   "execution_count": 3,
   "metadata": {},
   "outputs": [],
   "source": [
    "import torch\n",
    "from torch.autograd import Variable\n",
    "import torch.nn.functional as F\n",
    "\n",
    "X = Variable(torch.from_numpy(X.values)).float()\n",
    "y = Variable(torch.from_numpy(y_data.values)).float()"
   ]
  },
  {
   "cell_type": "code",
   "execution_count": 5,
   "metadata": {},
   "outputs": [],
   "source": [
    "class Model(torch.nn.Module):\n",
    "    \"\"\"\n",
    "    Input  layer  4\n",
    "    Hidden layer1 8\n",
    "    Hidden layer2 12\n",
    "    Hidden layer3 8\n",
    "    Output layer  3\n",
    "    \"\"\"\n",
    "    def __init__(self):\n",
    "        super(Model, self).__init__()\n",
    "        self.layer1 = torch.nn.Linear(4, 8)\n",
    "        self.layer2 = torch.nn.Linear(8, 12)\n",
    "        self.layer3 = torch.nn.Linear(12, 8)\n",
    "        self.layer4 = torch.nn.Linear(8, 3)\n",
    "        \n",
    "        self.sigmoid = torch.nn.Sigmoid()\n",
    "        \n",
    "    def forward(self, x):\n",
    "        output1 = F.relu(self.layer1(x))\n",
    "        output2 = F.relu(self.layer2(output1))\n",
    "        output3 = F.relu(self.layer3(output2))\n",
    "        y_pred  = (self.layer4(output3))\n",
    "        return y_pred"
   ]
  },
  {
   "cell_type": "code",
   "execution_count": 6,
   "metadata": {},
   "outputs": [],
   "source": [
    "model = Model()"
   ]
  },
  {
   "cell_type": "code",
   "execution_count": 7,
   "metadata": {},
   "outputs": [],
   "source": [
    "criterion = torch.nn.MSELoss()\n",
    "optimizer = torch.optim.SGD(model.parameters(), lr=0.1, momentum=0.7)"
   ]
  },
  {
   "cell_type": "code",
   "execution_count": 8,
   "metadata": {},
   "outputs": [
    {
     "name": "stdout",
     "output_type": "stream",
     "text": [
      "Epoch: 1\t Loss: 0.4424777925014496\n",
      "Epoch: 2\t Loss: 0.3940688371658325\n",
      "Epoch: 3\t Loss: 0.3368259072303772\n",
      "Epoch: 4\t Loss: 0.2842331826686859\n",
      "Epoch: 5\t Loss: 0.24166730046272278\n",
      "Epoch: 6\t Loss: 0.2122112661600113\n",
      "Epoch: 7\t Loss: 0.1950383186340332\n",
      "Epoch: 8\t Loss: 0.18648849427700043\n",
      "Epoch: 9\t Loss: 0.18246619403362274\n",
      "Epoch: 10\t Loss: 0.17824934422969818\n"
     ]
    }
   ],
   "source": [
    "epochs = 10\n",
    "for epoch in range(epochs):\n",
    "    y_pred = model(X)\n",
    "    \n",
    "    loss = criterion(y_pred, y)\n",
    "    print(f\"Epoch: {epoch+1}\\t Loss: {loss.data.item()}\")\n",
    "    \n",
    "    # zero gradients, perform a backward pass, and update weights\n",
    "    optimizer.zero_grad()\n",
    "    loss.backward()\n",
    "    optimizer.step()"
   ]
  },
  {
   "cell_type": "code",
   "execution_count": 9,
   "metadata": {},
   "outputs": [
    {
     "data": {
      "text/plain": [
       "tensor([0, 0, 0, 0, 0, 0, 0, 0, 0, 0, 0, 0, 0, 0, 0, 0, 0, 0, 0, 0, 0, 0, 0, 0,\n",
       "        0, 0, 0, 0, 0, 0, 0, 0, 0, 0, 0, 0, 0, 0, 0, 0, 0, 0, 0, 0, 0, 0, 0, 0,\n",
       "        0, 0, 1, 1, 1, 1, 1, 2, 1, 1, 1, 1, 1, 1, 1, 2, 1, 1, 2, 1, 1, 1, 2, 1,\n",
       "        2, 1, 1, 1, 1, 2, 1, 1, 1, 1, 1, 2, 2, 1, 1, 1, 1, 1, 1, 1, 1, 1, 1, 1,\n",
       "        1, 1, 1, 1, 2, 2, 2, 2, 2, 2, 2, 2, 2, 2, 2, 2, 2, 2, 2, 2, 2, 2, 2, 2,\n",
       "        2, 2, 2, 2, 2, 2, 2, 2, 2, 2, 2, 2, 2, 2, 2, 2, 2, 2, 2, 2, 2, 2, 2, 2,\n",
       "        2, 2, 2, 2, 2, 2])"
      ]
     },
     "execution_count": 9,
     "metadata": {},
     "output_type": "execute_result"
    }
   ],
   "source": [
    "torch.argmax(y_pred, 1)"
   ]
  },
  {
   "cell_type": "markdown",
   "metadata": {},
   "source": [
    "Accuracy"
   ]
  },
  {
   "cell_type": "code",
   "execution_count": 10,
   "metadata": {},
   "outputs": [
    {
     "data": {
      "text/plain": [
       "0.9466666666666667"
      ]
     },
     "execution_count": 10,
     "metadata": {},
     "output_type": "execute_result"
    }
   ],
   "source": [
    "import numpy as np\n",
    "sum(torch.argmax(y_pred, 1).numpy() == np.argmax(y_data.values, 1)) / y_data.shape[0]"
   ]
  },
  {
   "cell_type": "markdown",
   "metadata": {},
   "source": [
    "**Compare `cpp` implementation to `torch` solution**"
   ]
  },
  {
   "cell_type": "code",
   "execution_count": 16,
   "metadata": {},
   "outputs": [
    {
     "data": {
      "text/plain": [
       "['Epoch: 1/20 complete\\tTest loss: 0.135927',\n",
       " 'Epoch: 2/20 complete\\tTest loss: 0.13176',\n",
       " 'Epoch: 3/20 complete\\tTest loss: 0.1281',\n",
       " 'Epoch: 4/20 complete\\tTest loss: 0.121756',\n",
       " 'Epoch: 5/20 complete\\tTest loss: 0.118432',\n",
       " 'Epoch: 6/20 complete\\tTest loss: 0.115217',\n",
       " 'Epoch: 7/20 complete\\tTest loss: 0.111112',\n",
       " 'Epoch: 8/20 complete\\tTest loss: 0.10537',\n",
       " 'Epoch: 9/20 complete\\tTest loss: 0.102704',\n",
       " 'Epoch: 10/20 complete\\tTest loss: 0.100482',\n",
       " 'Epoch: 11/20 complete\\tTest loss: 0.0982911',\n",
       " 'Epoch: 12/20 complete\\tTest loss: 0.0945849',\n",
       " 'Epoch: 13/20 complete\\tTest loss: 0.094575',\n",
       " 'Epoch: 14/20 complete\\tTest loss: 0.0926059',\n",
       " 'Epoch: 15/20 complete\\tTest loss: 0.091264',\n",
       " 'Epoch: 16/20 complete\\tTest loss: 0.0890861',\n",
       " 'Epoch: 17/20 complete\\tTest loss: 0.0872235',\n",
       " 'Epoch: 18/20 complete\\tTest loss: 0.0853142',\n",
       " 'Epoch: 19/20 complete\\tTest loss: 0.0846057',\n",
       " 'Epoch: 20/20 complete\\tTest loss: 0.0833902',\n",
       " '',\n",
       " 'Accuracy: 0.8',\n",
       " '',\n",
       " 'Confunsion matrix',\n",
       " '10 0 0 ',\n",
       " '0 3 6 ',\n",
       " '0 0 11 ',\n",
       " '']"
      ]
     },
     "execution_count": 16,
     "metadata": {},
     "output_type": "execute_result"
    }
   ],
   "source": [
    "%%!\n",
    "cd ..\n",
    "file=$(pwd)\"/iris.data\"\n",
    "bin/neuralnet $file 20 2 0.1"
   ]
  },
  {
   "cell_type": "code",
   "execution_count": null,
   "metadata": {},
   "outputs": [],
   "source": []
  },
  {
   "cell_type": "code",
   "execution_count": null,
   "metadata": {},
   "outputs": [],
   "source": []
  }
 ],
 "metadata": {
  "kernelspec": {
   "display_name": "Python 3",
   "language": "python",
   "name": "python3"
  },
  "language_info": {
   "codemirror_mode": {
    "name": "ipython",
    "version": 3
   },
   "file_extension": ".py",
   "mimetype": "text/x-python",
   "name": "python",
   "nbconvert_exporter": "python",
   "pygments_lexer": "ipython3",
   "version": "3.7.1"
  }
 },
 "nbformat": 4,
 "nbformat_minor": 2
}
